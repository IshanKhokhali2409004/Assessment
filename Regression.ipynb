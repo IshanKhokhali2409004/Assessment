{
  "nbformat": 4,
  "nbformat_minor": 0,
  "metadata": {
    "colab": {
      "provenance": []
    },
    "kernelspec": {
      "name": "python3",
      "display_name": "Python 3"
    },
    "language_info": {
      "name": "python"
    }
  },
  "cells": [
    {
      "cell_type": "code",
      "source": [
        "import pandas as pd\n",
        "from sklearn.model_selection import train_test_split, GridSearchCV, cross_val_score\n",
        "from sklearn.preprocessing import LabelEncoder, StandardScaler\n",
        "from sklearn.metrics import mean_absolute_error, r2_score\n",
        "from sklearn.base import BaseEstimator, RegressorMixin\n",
        "import numpy as np"
      ],
      "metadata": {
        "id": "Xrwl4EzaOBhp"
      },
      "execution_count": null,
      "outputs": []
    },
    {
      "cell_type": "code",
      "source": [
        "# Load dataset\n",
        "file_path = '/content/drive/MyDrive/Datasets/dataset_traffic_accident_prediction1.csv'\n",
        "data = pd.read_csv(file_path)\n"
      ],
      "metadata": {
        "id": "jfbrKEFaOGTp"
      },
      "execution_count": null,
      "outputs": []
    },
    {
      "cell_type": "code",
      "source": [
        "# Data Preprocessing\n",
        "# Drop rows with missing target values and fill others\n",
        "regression_target = 'Accident'\n",
        "data.dropna(subset=[regression_target], inplace=True)\n",
        "data.fillna(method='ffill', inplace=True)\n"
      ],
      "metadata": {
        "colab": {
          "base_uri": "https://localhost:8080/"
        },
        "id": "pO8sL88YOPFg",
        "outputId": "95ee9af2-a40a-4c25-877f-661e40a1702f"
      },
      "execution_count": null,
      "outputs": [
        {
          "output_type": "stream",
          "name": "stderr",
          "text": [
            "<ipython-input-8-dcb24ff6b0f4>:5: FutureWarning: DataFrame.fillna with 'method' is deprecated and will raise in a future version. Use obj.ffill() or obj.bfill() instead.\n",
            "  data.fillna(method='ffill', inplace=True)\n"
          ]
        }
      ]
    },
    {
      "cell_type": "code",
      "source": [
        "# Encode categorical features\n",
        "categorical_cols = data.select_dtypes(include=['object']).columns\n",
        "label_encoders = {}\n",
        "for col in categorical_cols:\n",
        "    le = LabelEncoder()\n",
        "    data[col] = le.fit_transform(data[col])\n",
        "    label_encoders[col] = le"
      ],
      "metadata": {
        "id": "Zs_2dnY3OR66"
      },
      "execution_count": null,
      "outputs": []
    },
    {
      "cell_type": "code",
      "source": [
        "# Standardize numerical features\n",
        "numerical_cols = data.select_dtypes(include=['float64', 'int64']).columns.drop([regression_target])\n",
        "scaler = StandardScaler()\n",
        "data[numerical_cols] = scaler.fit_transform(data[numerical_cols])"
      ],
      "metadata": {
        "id": "P9lCADcrOTRg"
      },
      "execution_count": null,
      "outputs": []
    },
    {
      "cell_type": "code",
      "source": [
        "# Feature Selection (Using correlation threshold)\n",
        "correlation_matrix = data.corr()\n",
        "correlation_threshold = 0.1\n",
        "selected_features = correlation_matrix[regression_target][abs(correlation_matrix[regression_target]) > correlation_threshold].index\n",
        "selected_features = selected_features.drop(regression_target)\n",
        "\n",
        "X = data[selected_features]\n",
        "y = data[regression_target]"
      ],
      "metadata": {
        "id": "OhRTk7Q7OXVy"
      },
      "execution_count": null,
      "outputs": []
    },
    {
      "cell_type": "code",
      "source": [
        "# Train/Test Split\n",
        "X_train, X_test, y_train, y_test = train_test_split(X, y, test_size=0.2, random_state=42)"
      ],
      "metadata": {
        "id": "eyJ08xN_OZ7g"
      },
      "execution_count": null,
      "outputs": []
    },
    {
      "cell_type": "code",
      "source": [
        "# Custom Model from Scratch\n",
        "class CustomLinearRegression(BaseEstimator, RegressorMixin):\n",
        "    def __init__(self, learning_rate=0.01, epochs=1000):\n",
        "        self.learning_rate = learning_rate\n",
        "        self.epochs = epochs\n",
        "\n",
        "    def fit(self, X, y):\n",
        "        X = np.c_[np.ones((X.shape[0], 1)), X]\n",
        "        self.weights = np.zeros(X.shape[1])\n",
        "        for _ in range(self.epochs):\n",
        "            predictions = np.dot(X, self.weights)\n",
        "            gradient = np.dot(X.T, (predictions - y)) / y.size\n",
        "            self.weights -= self.learning_rate * gradient\n",
        "        return self\n",
        "\n",
        "    def predict(self, X):\n",
        "        X = np.c_[np.ones((X.shape[0], 1)), X]\n",
        "        return np.dot(X, self.weights)"
      ],
      "metadata": {
        "id": "j39AEgIWOa1B"
      },
      "execution_count": null,
      "outputs": []
    },
    {
      "cell_type": "code",
      "source": [
        "# Model 1: Custom Linear Regression\n",
        "custom_model = CustomLinearRegression(learning_rate=0.01, epochs=1000)\n",
        "custom_model.fit(X_train.values, y_train.values)\n",
        "y_pred_custom = custom_model.predict(X_test.values)\n",
        "custom_mae = mean_absolute_error(y_test, y_pred_custom)\n",
        "custom_r2 = r2_score(y_test, y_pred_custom)\n"
      ],
      "metadata": {
        "id": "fbkM3HpUOcuQ"
      },
      "execution_count": null,
      "outputs": []
    },
    {
      "cell_type": "code",
      "source": [
        "# Model 2: Random Forest Regressor\n",
        "from sklearn.ensemble import RandomForestRegressor\n",
        "rf_model = RandomForestRegressor(random_state=42)"
      ],
      "metadata": {
        "id": "yvhUNBXOOf84"
      },
      "execution_count": null,
      "outputs": []
    },
    {
      "cell_type": "code",
      "source": [
        "# Hyperparameter Optimization with Cross-Validation\n",
        "param_grid = {\n",
        "    'n_estimators': [50, 100, 150],\n",
        "    'max_depth': [None, 10, 20, 30],\n",
        "    'min_samples_split': [2, 5, 10]\n",
        "}\n",
        "grid_search = GridSearchCV(rf_model, param_grid, cv=5, scoring='neg_mean_absolute_error')\n",
        "grid_search.fit(X_train, y_train)\n",
        "\n",
        "best_rf_model = grid_search.best_estimator_\n",
        "y_pred_rf = best_rf_model.predict(X_test)\n",
        "rf_mae = mean_absolute_error(y_test, y_pred_rf)\n",
        "rf_r2 = r2_score(y_test, y_pred_rf)"
      ],
      "metadata": {
        "id": "zBwYByXKOjDp"
      },
      "execution_count": null,
      "outputs": []
    },
    {
      "cell_type": "code",
      "source": [
        "# Final Model (Best Random Forest)\n",
        "final_model = best_rf_model\n",
        "final_model.fit(X_train, y_train)\n",
        "y_pred_final = final_model.predict(X_test)\n",
        "final_mae = mean_absolute_error(y_test, y_pred_final)\n",
        "final_r2 = r2_score(y_test, y_pred_final)"
      ],
      "metadata": {
        "id": "27YRCrapOtep"
      },
      "execution_count": null,
      "outputs": []
    },
    {
      "cell_type": "code",
      "source": [
        "# Output Results\n",
        "print(\"Custom Linear Regression Results:\")\n",
        "print(f\"Mean Absolute Error: {custom_mae:.2f}\")\n",
        "print(f\"R2 Score: {custom_r2:.2f}\")\n",
        "\n",
        "print(\"\\nRandom Forest Results:\")\n",
        "print(f\"Mean Absolute Error: {rf_mae:.2f}\")\n",
        "print(f\"R2 Score: {rf_r2:.2f}\")\n",
        "\n",
        "print(\"\\nFinal Model Results:\")\n",
        "print(f\"Mean Absolute Error: {final_mae:.2f}\")\n",
        "print(f\"R2 Score: {final_r2:.2f}\")"
      ],
      "metadata": {
        "colab": {
          "base_uri": "https://localhost:8080/"
        },
        "id": "LzFqHtZ8OvfB",
        "outputId": "755a4e5e-34bf-4299-97d9-3c55aba54eab"
      },
      "execution_count": null,
      "outputs": [
        {
          "output_type": "stream",
          "name": "stdout",
          "text": [
            "Custom Linear Regression Results:\n",
            "Mean Absolute Error: 0.42\n",
            "R2 Score: 0.01\n",
            "\n",
            "Random Forest Results:\n",
            "Mean Absolute Error: 0.42\n",
            "R2 Score: 0.00\n",
            "\n",
            "Final Model Results:\n",
            "Mean Absolute Error: 0.42\n",
            "R2 Score: 0.00\n"
          ]
        }
      ]
    }
  ]
}